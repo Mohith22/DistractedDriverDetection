{
 "cells": [
  {
   "cell_type": "code",
   "execution_count": 2,
   "metadata": {},
   "outputs": [],
   "source": [
    "#Distracted Driver Detection\n",
    "#Machine Learning Course Project\n",
    "#Instructor: Christopher Policastro\n",
    "#Group: Mohith | Alisha"
   ]
  },
  {
   "cell_type": "code",
   "execution_count": 3,
   "metadata": {},
   "outputs": [
    {
     "name": "stdout",
     "output_type": "stream",
     "text": [
      "Collecting opencv-python\n",
      "\u001b[?25l  Downloading https://files.pythonhosted.org/packages/6a/a8/f051a1ec9a08312d76a5b8b663d831c91de24ec80a073a3303a1617aaef1/opencv_python-4.1.1.26-cp37-cp37m-macosx_10_8_x86_64.macosx_10_9_intel.macosx_10_9_x86_64.macosx_10_10_intel.macosx_10_10_x86_64.whl (51.6MB)\n",
      "\u001b[K     |████████████████████████████████| 51.6MB 4.7MB/s eta 0:00:01\n",
      "\u001b[?25hRequirement already satisfied: numpy>=1.14.5 in /usr/local/lib/python3.7/site-packages (from opencv-python) (1.16.3)\n",
      "Installing collected packages: opencv-python\n",
      "Successfully installed opencv-python-4.1.1.26\n",
      "\u001b[33mWARNING: You are using pip version 19.2.3, however version 19.3.1 is available.\n",
      "You should consider upgrading via the 'pip install --upgrade pip' command.\u001b[0m\n"
     ]
    }
   ],
   "source": [
    "!pip3 install opencv-python"
   ]
  },
  {
   "cell_type": "code",
   "execution_count": 1,
   "metadata": {},
   "outputs": [],
   "source": [
    "#Imports\n",
    "import cv2\n",
    "import os"
   ]
  },
  {
   "cell_type": "code",
   "execution_count": 16,
   "metadata": {},
   "outputs": [],
   "source": [
    "#Loading Images\n",
    "\n",
    "def ReScale(img):\n",
    "    scale_percent = 20\n",
    "    width = int(img.shape[1] * scale_percent / 100)\n",
    "    height = int(img.shape[0] * scale_percent / 100)\n",
    "    dim = (width, height)\n",
    "    return cv2.resize(img, dim)\n",
    "\n",
    "def LoadTrainImages():\n",
    "    train_valid = 0.8\n",
    "    data_path = \"../state-farm-distracted-driver-detection/imgs/train\"\n",
    "    x_train = []\n",
    "    x_val = []\n",
    "    y_train = []\n",
    "    y_val = []\n",
    "    for folder_name in os.listdir(data_path):\n",
    "        x_temp = []\n",
    "        y_temp = []\n",
    "        if (not folder_name.startswith('.')):\n",
    "            label = folder_name[1]\n",
    "            folder_direc = data_path+\"/\"+folder_name\n",
    "            for file_name in os.listdir(folder_direc):\n",
    "                img = cv2.imread(folder_direc + \"/\" + file_name)\n",
    "                img = ReScale(img)\n",
    "                x_temp.append(img)\n",
    "                y_temp.append(int(label))\n",
    "            split_index = int(train_valid * len(x_temp))\n",
    "            x_train += x_temp[0:split_index]\n",
    "            x_val += x_temp[split_index:]\n",
    "            y_train += y_temp[0:split_index]\n",
    "            y_val += y_temp[split_index:]\n",
    "    return x_train, y_train, x_val, y_val        "
   ]
  },
  {
   "cell_type": "code",
   "execution_count": 17,
   "metadata": {},
   "outputs": [
    {
     "name": "stdout",
     "output_type": "stream",
     "text": [
      "17934 4490\n"
     ]
    }
   ],
   "source": [
    "x_train, y_train, x_val, y_val = LoadTrainImages()\n",
    "print(len(x_train), len(x_val))    "
   ]
  },
  {
   "cell_type": "code",
   "execution_count": null,
   "metadata": {},
   "outputs": [],
   "source": []
  },
  {
   "cell_type": "code",
   "execution_count": null,
   "metadata": {},
   "outputs": [],
   "source": []
  }
 ],
 "metadata": {
  "kernelspec": {
   "display_name": "Python 3",
   "language": "python",
   "name": "python3"
  },
  "language_info": {
   "codemirror_mode": {
    "name": "ipython",
    "version": 3
   },
   "file_extension": ".py",
   "mimetype": "text/x-python",
   "name": "python",
   "nbconvert_exporter": "python",
   "pygments_lexer": "ipython3",
   "version": "3.7.1"
  }
 },
 "nbformat": 4,
 "nbformat_minor": 2
}
